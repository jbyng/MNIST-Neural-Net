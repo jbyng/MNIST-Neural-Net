{
 "cells": [
  {
   "cell_type": "code",
   "execution_count": null,
   "id": "2297c30d",
   "metadata": {},
   "outputs": [],
   "source": [
    "import torchvision\n",
    "import torch"
   ]
  },
  {
   "cell_type": "code",
   "execution_count": 79,
   "id": "c290bae3",
   "metadata": {},
   "outputs": [
    {
     "data": {
      "text/plain": [
       "'0.18.1+cpu'"
      ]
     },
     "execution_count": 79,
     "metadata": {},
     "output_type": "execute_result"
    }
   ],
   "source": [
    "torchvision.__version__"
   ]
  },
  {
   "cell_type": "code",
   "execution_count": 80,
   "id": "9b5cd5ae",
   "metadata": {},
   "outputs": [
    {
     "data": {
      "text/plain": [
       "'2.3.1+cpu'"
      ]
     },
     "execution_count": 80,
     "metadata": {},
     "output_type": "execute_result"
    }
   ],
   "source": [
    "torch.__version__"
   ]
  },
  {
   "cell_type": "code",
   "execution_count": 81,
   "id": "b0a28e85",
   "metadata": {},
   "outputs": [],
   "source": [
    "from torchvision.datasets import MNIST\n",
    "from torchvision.transforms import Compose, ToTensor, Lambda\n",
    "transform = Compose([\n",
    "    ToTensor(),\n",
    "    Lambda(lambda image: image / 255),\n",
    "    Lambda(lambda image: image.view(784))\n",
    "\n",
    "])\n",
    "data_train = MNIST(root=\"./\",download=True,train=True,transform=transform)\n",
    "data_test = MNIST(root=\"./\",download=True,train=False,transform=transform)"
   ]
  },
  {
   "cell_type": "code",
   "execution_count": 82,
   "id": "0c939524",
   "metadata": {},
   "outputs": [
    {
     "data": {
      "text/plain": [
       "torch.Size([784])"
      ]
     },
     "execution_count": 82,
     "metadata": {},
     "output_type": "execute_result"
    }
   ],
   "source": [
    "data_train[0][0].shape"
   ]
  },
  {
   "cell_type": "code",
   "execution_count": 83,
   "id": "9ede2f88",
   "metadata": {},
   "outputs": [
    {
     "data": {
      "text/plain": [
       "5"
      ]
     },
     "execution_count": 83,
     "metadata": {},
     "output_type": "execute_result"
    }
   ],
   "source": [
    "data_train[0][1]"
   ]
  },
  {
   "cell_type": "code",
   "execution_count": 84,
   "id": "f8a50a76",
   "metadata": {},
   "outputs": [],
   "source": [
    "from torch import nn\n",
    "from torch import optim\n",
    "import torch\n",
    "class MNISTModel(nn.Module):\n",
    "    def __init__(self):\n",
    "        super().__init__()\n",
    "        self.layers = nn.Sequential(\n",
    "            nn.Linear(784,512),\n",
    "            nn.ReLU(),\n",
    "            nn.Linear(512,512),\n",
    "            nn.ReLU(),\n",
    "            nn.Linear(512,10),\n",
    "        )\n",
    "        self.loss = nn.CrossEntropyLoss()\n",
    "        self.optimizer = optim.Adam(self.parameters())\n",
    "    def forward(self,X):\n",
    "        return self.layers(X)\n",
    "    def predict(self,X):\n",
    "        with torch.no_grad():\n",
    "            return torch.argmax(self.forward(X),axis=-1)\n",
    "    def fit(self,X,Y):\n",
    "        self.optimizer.zero_grad()\n",
    "        y_pred = self.forward(X)\n",
    "        loss = self.loss(y_pred,Y)\n",
    "        loss.backward()\n",
    "        self.optimizer.step()\n",
    "        return loss.item()\n",
    "    "
   ]
  },
  {
   "cell_type": "code",
   "execution_count": 85,
   "id": "c4dfbd54",
   "metadata": {},
   "outputs": [],
   "source": [
    "mnist_model = MNISTModel()"
   ]
  },
  {
   "cell_type": "code",
   "execution_count": 86,
   "id": "fee7eb77",
   "metadata": {},
   "outputs": [],
   "source": [
    "from torch.utils.data import DataLoader\n",
    "BATCH_SIZE = 16\n",
    "dataloader_train = DataLoader(data_train,batch_size=BATCH_SIZE,shuffle=True)\n",
    "dataloader_test = DataLoader(data_test,batch_size=BATCH_SIZE,shuffle=True)"
   ]
  },
  {
   "cell_type": "code",
   "execution_count": 87,
   "id": "53dd24a5",
   "metadata": {},
   "outputs": [
    {
     "name": "stderr",
     "output_type": "stream",
     "text": [
      "FITTING EPOCH 0: 100%|██████████| 3750/3750 [00:20<00:00, 179.98it/s]\n"
     ]
    },
    {
     "name": "stdout",
     "output_type": "stream",
     "text": [
      "EPOCH 0: 2213.1045\n"
     ]
    },
    {
     "name": "stderr",
     "output_type": "stream",
     "text": [
      "FITTING EPOCH 1: 100%|██████████| 3750/3750 [00:20<00:00, 186.33it/s]\n"
     ]
    },
    {
     "name": "stdout",
     "output_type": "stream",
     "text": [
      "EPOCH 1: 1005.5268\n"
     ]
    },
    {
     "name": "stderr",
     "output_type": "stream",
     "text": [
      "FITTING EPOCH 2: 100%|██████████| 3750/3750 [00:20<00:00, 186.34it/s]\n"
     ]
    },
    {
     "name": "stdout",
     "output_type": "stream",
     "text": [
      "EPOCH 2: 696.8056\n"
     ]
    },
    {
     "name": "stderr",
     "output_type": "stream",
     "text": [
      "FITTING EPOCH 3: 100%|██████████| 3750/3750 [00:20<00:00, 185.59it/s]\n"
     ]
    },
    {
     "name": "stdout",
     "output_type": "stream",
     "text": [
      "EPOCH 3: 523.5000\n"
     ]
    },
    {
     "name": "stderr",
     "output_type": "stream",
     "text": [
      "FITTING EPOCH 4: 100%|██████████| 3750/3750 [00:21<00:00, 177.27it/s]"
     ]
    },
    {
     "name": "stdout",
     "output_type": "stream",
     "text": [
      "EPOCH 4: 418.3268\n"
     ]
    },
    {
     "name": "stderr",
     "output_type": "stream",
     "text": [
      "\n"
     ]
    }
   ],
   "source": [
    "from tqdm import tqdm\n",
    "EPOCHS = 5\n",
    "for i in range(EPOCHS):\n",
    "    total_loss = 0\n",
    "    for xs, ys in tqdm(dataloader_train,desc=f\"FITTING EPOCH {i}\"):\n",
    "        total_loss += mnist_model.fit(xs,ys)\n",
    "    total_loss / len(dataloader_train)\n",
    "    print(f\"EPOCH {i}: {total_loss:.4f}\")"
   ]
  },
  {
   "cell_type": "code",
   "execution_count": 1,
   "id": "b2bb2ffa",
   "metadata": {},
   "outputs": [
    {
     "ename": "NameError",
     "evalue": "name 'dataloader_test' is not defined",
     "output_type": "error",
     "traceback": [
      "\u001b[1;31m---------------------------------------------------------------------------\u001b[0m",
      "\u001b[1;31mNameError\u001b[0m                                 Traceback (most recent call last)",
      "Cell \u001b[1;32mIn[1], line 2\u001b[0m\n\u001b[0;32m      1\u001b[0m correct \u001b[38;5;241m=\u001b[39m \u001b[38;5;241m0\u001b[39m\n\u001b[1;32m----> 2\u001b[0m \u001b[38;5;28;01mfor\u001b[39;00m xs, ys \u001b[38;5;129;01min\u001b[39;00m dataloader_test:\n\u001b[0;32m      3\u001b[0m    \u001b[38;5;66;03m#print(mnist_model.predict(xs))\u001b[39;00m\n\u001b[0;32m      4\u001b[0m    y_pred \u001b[38;5;241m=\u001b[39m mnist_model\u001b[38;5;241m.\u001b[39mpredict(xs)\n\u001b[0;32m      5\u001b[0m    correct \u001b[38;5;241m+\u001b[39m\u001b[38;5;241m=\u001b[39m (ys \u001b[38;5;241m==\u001b[39m y_pred)\u001b[38;5;241m.\u001b[39msum()\n",
      "\u001b[1;31mNameError\u001b[0m: name 'dataloader_test' is not defined"
     ]
    }
   ],
   "source": [
    "correct = 0\n",
    "for xs, ys in dataloader_test:\n",
    "   #print(mnist_model.predict(xs))\n",
    "   y_pred = mnist_model.predict(xs)\n",
    "   correct += (ys == y_pred).sum()\n",
    "acc = (correct / len(dataloader_test) * BATCH_SIZE)/255\n",
    "print(f\"ACCURACY: {acc}\")"
   ]
  }
 ],
 "metadata": {
  "kernelspec": {
   "display_name": "Python 3",
   "language": "python",
   "name": "python3"
  },
  "language_info": {
   "codemirror_mode": {
    "name": "ipython",
    "version": 3
   },
   "file_extension": ".py",
   "mimetype": "text/x-python",
   "name": "python",
   "nbconvert_exporter": "python",
   "pygments_lexer": "ipython3",
   "version": "3.11.7"
  }
 },
 "nbformat": 4,
 "nbformat_minor": 5
}
